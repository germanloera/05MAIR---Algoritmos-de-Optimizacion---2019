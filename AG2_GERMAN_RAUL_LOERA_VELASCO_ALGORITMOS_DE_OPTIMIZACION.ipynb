{
  "nbformat": 4,
  "nbformat_minor": 0,
  "metadata": {
    "colab": {
      "name": "AG2-GERMAN RAUL LOERA VELASCO-ALGORITMOS DE OPTIMIZACION",
      "provenance": [],
      "collapsed_sections": [],
      "authorship_tag": "ABX9TyMkfcuhA0paVMObSehcR8lM",
      "include_colab_link": true
    },
    "kernelspec": {
      "name": "python3",
      "display_name": "Python 3"
    }
  },
  "cells": [
    {
      "cell_type": "markdown",
      "metadata": {
        "id": "view-in-github",
        "colab_type": "text"
      },
      "source": [
        "<a href=\"https://colab.research.google.com/github/germanloera/05MAIR---Algoritmos-de-Optimizacion---2019/blob/master/AG2_GERMAN_RAUL_LOERA_VELASCO_ALGORITMOS_DE_OPTIMIZACION.ipynb\" target=\"_parent\"><img src=\"https://colab.research.google.com/assets/colab-badge.svg\" alt=\"Open In Colab\"/></a>"
      ]
    },
    {
      "cell_type": "markdown",
      "metadata": {
        "id": "exTN7twkmEka",
        "colab_type": "text"
      },
      "source": [
        "# Actividad Guiada 2 - Algoritmos de Optimización\n",
        "\n",
        "## Germán Raúl Loera Velasco\n",
        "\n",
        "Github: https://github.com/germanloera/05MAIR---Algoritmos-de-Optimizacion---2019\n",
        "\n",
        "Link Directo: https://github.com/germanloera/05MAIR---Algoritmos-de-Optimizacion---2019/blob/master/AG2_GERMAN_RAUL_LOERA_VELASCO_ALGORITMOS_DE_OPTIMIZACION.ipynb\n",
        "\n",
        "\n"
      ]
    },
    {
      "cell_type": "markdown",
      "metadata": {
        "id": "3zN4j_PCCSMf",
        "colab_type": "text"
      },
      "source": [
        "## Programación Dinámica"
      ]
    },
    {
      "cell_type": "code",
      "metadata": {
        "id": "edqQefA8PyV_",
        "colab_type": "code",
        "outputId": "5356b343-73ed-4448-83a6-714536506ec5",
        "colab": {
          "base_uri": "https://localhost:8080/",
          "height": 34
        }
      },
      "source": [
        "def Precios(Tarifas):\n",
        "    # Total de Nodos\n",
        "    N = len(Tarifas)\n",
        "\n",
        "    #Inicializacion de la Tabla de Precios\n",
        "    precios = [ [9999]*N for i in [9999]*N ]\n",
        "    ruta = [[\"\"]*N for i in [\"\"]*N]\n",
        "    for i in range(N - 1):\n",
        "        for j in range(i + 1, N):\n",
        "            Min = Tarifas[i][j]\n",
        "            ruta[i][j] = i\n",
        "\n",
        "            for k in range(i, j):\n",
        "                if precios[i][k] + Tarifas[k][j] < Min:\n",
        "                    Min = min(Min, precios[i][k] + Tarifas[k][j])\n",
        "                    ruta[i][j] = k\n",
        "                precios[i][j] = Min\n",
        "    return precios, ruta\n",
        "\n",
        "def calcular_ruta(Ruta, desde, hasta):\n",
        "    if desde == hasta:\n",
        "        return desde\n",
        "    else:\n",
        "        return str(calcular_ruta(Ruta, desde, Ruta[desde][hasta])) + ', ' + str(Ruta[desde][hasta])\n",
        "\n",
        "\n",
        "Tarifas = [\n",
        "    [0, 5, 4, 3, 999, 999, 999],\n",
        "    [999, 0, 999, 2, 3, 999, 11],\n",
        "    [999, 999, 0, 1, 999, 4, 10],\n",
        "    [999, 999, 999, 0, 5, 6, 9],\n",
        "    [999, 999, 999, 999, 0, 999, 4],\n",
        "    [999, 999, 999, 999, 999, 0, 3],\n",
        "    [999, 999, 999, 999, 999, 999, 0],\n",
        "    ]\n",
        "\n",
        "precios, rutas = Precios(Tarifas)\n",
        "\n",
        "\n",
        "ruta = calcular_ruta(rutas, 0, 6)\n",
        "print(ruta)"
      ],
      "execution_count": 0,
      "outputs": [
        {
          "output_type": "stream",
          "text": [
            "0, 0, 2, 5\n"
          ],
          "name": "stdout"
        }
      ]
    },
    {
      "cell_type": "markdown",
      "metadata": {
        "id": "gMmuMx-2Cafz",
        "colab_type": "text"
      },
      "source": [
        "# Ramificación y Poda"
      ]
    },
    {
      "cell_type": "code",
      "metadata": {
        "id": "dzWzY2ZNCd_l",
        "colab_type": "code",
        "colab": {}
      },
      "source": [
        "import itertools\n",
        "import  random as r\n",
        "\n",
        "\n",
        "def valor(s, costes):\n",
        "    Valor = 0\n",
        "    for i in range(len(s)):\n",
        "        Valor += costes[s[i]][i]\n",
        "    return Valor\n",
        "\n",
        "def fuerza_bruta(Costes):\n",
        "    mejor_valor =  10e10 # 1\n",
        "    mejor_solucion = () # 1\n",
        "    for s in list(itertools.permutations(range(len(Costes)))): # n!\n",
        "        valor_tmp =  valor(s, Costes)#1\n",
        "        if valor_tmp < mejor_valor:#1\n",
        "            mejor_valor = valor_tmp# 1\n",
        "            mejor_solucion = s#1\n",
        "\n",
        "    print(\"La mejor solucion es: \", mejor_solucion, \" con valor: \", mejor_valor)"
      ],
      "execution_count": 0,
      "outputs": []
    },
    {
      "cell_type": "code",
      "metadata": {
        "id": "FVk1Sw84CjQb",
        "colab_type": "code",
        "colab": {}
      },
      "source": [
        "def ci(s, Costes):\n",
        "    Valor = 0\n",
        "\n",
        "    for i in range(len(s)):\n",
        "        Valor += Costes[i][s[i]]\n",
        "\n",
        "    for i in range(len(Costes)):\n",
        "        if i not in s:\n",
        "            Valor += min([Costes[j][i] for j in range(len(s), len(Costes))])\n",
        "    return Valor\n",
        "\n",
        "def crear_hijos(Nodo, N):\n",
        "    hijos = []\n",
        "    for i in range(N):\n",
        "        if i not in Nodo:\n",
        "            hijos.append({'s': Nodo + (i,) })\n",
        "    return hijos\n",
        "\n",
        "def ramificacion_y_poda(Costes):\n",
        "\n",
        "    Dimension = len(Costes)\n",
        "    Mejor_Solucion = tuple( i for i in range(len(Costes)))\n",
        "    CotaSup = valor(Mejor_Solucion, Costes)\n",
        "\n",
        "    Nodos = []\n",
        "    Nodos.append({'s': (), 'ci': ci((), Costes)})\n",
        "    iteracion = 0\n",
        "\n",
        "    while( len(Nodos) > 0):\n",
        "\n",
        "        iteracion += 1\n",
        "\n",
        "        nodo_prometedor = [ min(Nodos, key= lambda x:x['ci']) ][0]['s']\n",
        "\n",
        "        hijos = [ {'s': x['s'], 'ci':ci(x['s'], Costes)} for x in crear_hijos(nodo_prometedor, Dimension) ]\n",
        "\n",
        "        Nodo_Final = [ x for x in hijos if len(x['s']) == Dimension]\n",
        "        if len(Nodo_Final) > 0:\n",
        "            if Nodo_Final[0]['ci'] < CotaSup:\n",
        "                CotaSup = Nodo_Final[0]['ci']\n",
        "                Mejor_Solucion = Nodo_Final\n",
        "\n",
        "        hijos = [ x for x in hijos if x['ci'] < CotaSup ]\n",
        "\n",
        "        Nodos.extend(hijos)\n",
        "\n",
        "        Nodos = [ x for x in Nodos if x['s'] != nodo_prometedor]\n",
        "\n",
        "    print(\"La solucion final es: \", Mejor_Solucion, \" en \", iteracion, \" iteraciones \", \"para dimension: \", Dimension)\n"
      ],
      "execution_count": 0,
      "outputs": []
    },
    {
      "cell_type": "code",
      "metadata": {
        "id": "pbMyRY9KCqtR",
        "colab_type": "code",
        "outputId": "9f215e6f-d32e-4d2d-f1c1-a71b75990965",
        "colab": {
          "base_uri": "https://localhost:8080/",
          "height": 88
        }
      },
      "source": [
        "%%time\n",
        "N = 15\n",
        "Costes = [ [r.randrange(30)*N for x in range(N)] for i in range(N)]\n",
        "\n",
        "#    [11, 12, 18, 40],\n",
        "#    [14, 15, 13, 22],\n",
        "#    [11, 17, 19, 23],\n",
        "#    [17, 14, 20, 28]]\n",
        "\n",
        "ramificacion_y_poda(Costes)\n",
        "\n"
      ],
      "execution_count": 0,
      "outputs": [
        {
          "output_type": "stream",
          "text": [
            "La solucion final es:  [{'s': (3, 8, 2, 5, 4, 9, 7, 10, 14, 0, 11, 13, 6, 1, 12), 'ci': 570}]  en  29167  iteraciones  para dimension:  15\n",
            "CPU times: user 1min 29s, sys: 38.9 ms, total: 1min 29s\n",
            "Wall time: 1min 29s\n"
          ],
          "name": "stdout"
        }
      ]
    },
    {
      "cell_type": "code",
      "metadata": {
        "id": "Ivk1kwo5CxFq",
        "colab_type": "code",
        "colab": {}
      },
      "source": [
        "%%time\n",
        "fuerza_bruta(Costes)"
      ],
      "execution_count": 0,
      "outputs": []
    },
    {
      "cell_type": "markdown",
      "metadata": {
        "id": "UmhDyAp6E1Ca",
        "colab_type": "text"
      },
      "source": [
        "### **¿Que complejidad tiene el algoritmo por fuerza bruta?**\n",
        "#### De acuerdo a mi calculo la complejidad del algoritmo es  2 + (4 * n!)\n",
        "### **Generar matrices con valores aleatorios de mayores dimensiones (5,6,7,...) y ejecutar ambos algoritmos.**\n",
        "### **¿A partir de que dimensión el algoritmo por fuerza bruta deja de ser una opción?**\n",
        "#### Dependiendo de las caracteristicas del equipo donde se ejecute deja de ser una opcion a partir de la dimension 6 porque el numero de pasos de acuerdo a su complejidad es 2 + (4 * 6!) = 2 + (4 * 720) = 2,882\n",
        "### **¿Hay algún valor de la dimensión a partir de la cual el algoritmo de ramificación y poda deja de ser una opción válida?**\n",
        "#### De acuerdo a las pruebas la dimension 15 es donde el algoritmo empieza a presentar una lentitud considerable"
      ]
    }
  ]
}