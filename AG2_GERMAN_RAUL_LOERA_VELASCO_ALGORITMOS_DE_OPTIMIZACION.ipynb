{
  "nbformat": 4,
  "nbformat_minor": 0,
  "metadata": {
    "colab": {
      "name": "AG2-GERMAN RAUL LOERA VELASCO-ALGORITMOS DE OPTIMIZACION",
      "provenance": [],
      "collapsed_sections": [],
      "authorship_tag": "ABX9TyPy59u23vfqAmJfYtlXzvgg",
      "include_colab_link": true
    },
    "kernelspec": {
      "name": "python3",
      "display_name": "Python 3"
    }
  },
  "cells": [
    {
      "cell_type": "markdown",
      "metadata": {
        "id": "view-in-github",
        "colab_type": "text"
      },
      "source": [
        "<a href=\"https://colab.research.google.com/github/germanloera/05MAIR---Algoritmos-de-Optimizacion---2019/blob/master/AG2_GERMAN_RAUL_LOERA_VELASCO_ALGORITMOS_DE_OPTIMIZACION.ipynb\" target=\"_parent\"><img src=\"https://colab.research.google.com/assets/colab-badge.svg\" alt=\"Open In Colab\"/></a>"
      ]
    },
    {
      "cell_type": "markdown",
      "metadata": {
        "id": "exTN7twkmEka",
        "colab_type": "text"
      },
      "source": [
        "# Actividad Guiada 2 - Algoritmos de Optimización\n",
        "\n",
        "## Germán Raúl Loera Velasco\n",
        "\n",
        "Github: https://github.com/germanloera/05MAIR---Algoritmos-de-Optimizacion---2019\n",
        "\n",
        "\n"
      ]
    },
    {
      "cell_type": "code",
      "metadata": {
        "id": "edqQefA8PyV_",
        "colab_type": "code",
        "colab": {}
      },
      "source": [
        ""
      ],
      "execution_count": 0,
      "outputs": []
    }
  ]
}