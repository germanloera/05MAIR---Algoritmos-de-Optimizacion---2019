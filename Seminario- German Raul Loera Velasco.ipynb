{
 "cells": [
  {
   "cell_type": "markdown",
   "metadata": {
    "colab_type": "text",
    "id": "hVbXYX-RfPWh"
   },
   "source": [
    "# Algoritmos de optimización - Seminario<br>\n",
    "Nombre y Apellidos: Germán Raúl Loera Velasco   <br>\n",
    "Url: https://github.com/.../03MAIR---Algoritmos-de-Optimizacion---2019/tree/master/SEMINARIO<br>\n",
    "Problema:\n",
    "> 1. Elección de grupos de población homogéneos <br>\n",
    ">2. Organizar los horarios de partidos de La Liga<br>\n",
    ">3. Combinar cifras y operaciones\n",
    "\n",
    "Descripción del problema:(copiar enunciado)\n",
    "\n",
    "Se precisa coordinar el doblaje de una película. Los actores del doblaje deben coincidir en las tomas en las que sus personajes aparecen juntos en las diferentes tomas. Los actores de doblaje cobran todos la misma cantidad por cada día que deben desplazarse hasta el estudio de grabación independientemente del número de tomas que se graben. No es posible grabar más de 6 tomas por día. El objetivo es planificar las sesiones por día de manera que se gasto por los servicios de los actores de doblaje sea el menor posible. \n",
    "\n",
    "(*) La respuesta es obligatoria\n",
    "                              "
   ]
  },
  {
   "cell_type": "code",
   "execution_count": 15,
   "metadata": {},
   "outputs": [],
   "source": [
    "import numpy as np\n",
    "from itertools import combinations, permutations\n",
    "import random as r\n",
    "import  sys\n",
    "arr = [\n",
    "    [1,1,1,1,1,0,0,0,0,0],\n",
    "    [0,0,1,1,1,0,0,0,0,0],\n",
    "    [0,1,0,0,1,0,1,0,0,0],\n",
    "    [1,1,0,0,0,0,1,1,0,0],\n",
    "    [0,1,0,1,0,0,0,1,0,0],\n",
    "    [1,1,0,1,1,0,0,0,0,0],\n",
    "    [1,1,0,1,1,0,0,0,0,0],\n",
    "    [1,1,0,0,0,1,0,0,0,0],\n",
    "    [1,1,0,1,0,0,0,0,0,0],\n",
    "    [1,1,0,0,0,1,0,0,1,0],\n",
    "    [1,1,1,0,1,0,0,1,0,0],\n",
    "    [1,1,1,1,0,1,0,0,0,0],\n",
    "    [1,0,0,1,1,0,0,0,0,0],\n",
    "    [1,0,1,0,0,1,0,0,0,0],\n",
    "    [1,1,0,0,0,0,1,0,0,0],\n",
    "    [0,0,0,1,0,0,0,0,0,1],\n",
    "    [1,0,1,0,0,0,0,0,0,0],\n",
    "    [0,0,1,0,0,1,0,0,0,0],\n",
    "    [1,0,1,0,0,0,0,0,0,0],\n",
    "    [1,0,1,1,1,0,0,0,0,0],\n",
    "    [0,0,0,0,0,1,0,1,0,0],\n",
    "    [1,1,1,1,0,0,0,0,0,0],\n",
    "    [1,0,1,0,0,0,0,0,0,0],\n",
    "    [0,0,1,0,0,1,0,0,0,0],\n",
    "    [1,1,0,1,0,0,0,0,0,1],\n",
    "    [1,0,1,0,1,0,0,0,1,0],\n",
    "    [0,0,0,1,1,0,0,0,0,0],\n",
    "    [1,0,0,1,0,0,0,0,0,0],\n",
    "    [1,0,0,0,1,1,0,0,0,0],\n",
    "    [1,0,0,1,0,0,0,0,0,0]]"
   ]
  },
  {
   "cell_type": "markdown",
   "metadata": {
    "colab_type": "text",
    "id": "3_-exlrTgLd-"
   },
   "source": [
    "(*)¿Cuantas posibilidades hay sin tener en cuenta las restricciones?<br>\n",
    "\n",
    "\n",
    "\n",
    "¿Cuantas posibilidades hay teniendo en cuenta todas las restricciones.\n",
    "\n",
    "\n"
   ]
  },
  {
   "cell_type": "markdown",
   "metadata": {
    "colab_type": "text",
    "id": "WfCUqJyKhPcw"
   },
   "source": [
    "Respuesta"
   ]
  },
  {
   "cell_type": "markdown",
   "metadata": {
    "colab": {},
    "colab_type": "code",
    "id": "iq6Fe32MgpDX"
   },
   "source": [
    "#### Si no consideramos las restricciones del problema podria tener infinitas soluciones no necesariamente óptimas"
   ]
  },
  {
   "cell_type": "markdown",
   "metadata": {
    "colab_type": "text",
    "id": "dzynfVJahHoY"
   },
   "source": [
    "Modelo para el espacio de soluciones<br>\n",
    "(*) ¿Cual es la estructura de datos que mejor se adapta al problema? Argumentalo.(Es posible que hayas elegido una al principio y veas la necesidad de cambiar, argumentalo)\n"
   ]
  },
  {
   "cell_type": "markdown",
   "metadata": {
    "colab_type": "text",
    "id": "xFIJrOwKi2Ti"
   },
   "source": [
    "Respuesta"
   ]
  },
  {
   "cell_type": "markdown",
   "metadata": {},
   "source": [
    "#### Debido a la naturaleza del problema la mejor manera es manejarlo usando arrays, esto es porque las estructuras referenciadas como arboles y listas no permiten un acceso directo a una posición específica lo cual nos obligaría a tener que recorrer innecesariamente las estructurás para alcanzar el elemento que bucamos, en el caso de este problema generando la solución en un array donde cada posición ubicamos el numero de la posición de la toma  con respecto al arreglo de tomas "
   ]
  },
  {
   "cell_type": "markdown",
   "metadata": {
    "colab_type": "text",
    "id": "7Z9U2W7bi-XS"
   },
   "source": [
    "Según el modelo para el espacio de soluciones<br>\n",
    "(*)¿Cual es la función objetivo?\n",
    "\n",
    "(*)¿Es un problema de maximización o minimización?"
   ]
  },
  {
   "cell_type": "markdown",
   "metadata": {
    "colab_type": "text",
    "id": "hBalWLM7j1_d"
   },
   "source": [
    "Respuesta"
   ]
  },
  {
   "cell_type": "markdown",
   "metadata": {
    "colab": {},
    "colab_type": "code",
    "id": "pDA-rg3Gj5Lz"
   },
   "source": [
    "#### La función objetivo es: $$ min C = \\Sigma_i \\Sigma_j x_ij $$\n",
    "\n",
    "#### donde:\n",
    "\n",
    "* C - costo total\n",
    "* i - número de escenas\n",
    "* j - representa si el actor participa o no en una toma\n",
    "* x - representa el costo de participación de un actor en cierta toma\n",
    "\n",
    "#### El problema se puede plantear como un problema de minimización, dado que el se requiere calcular el costo total minimo de los actores al realizar todas las tomas"
   ]
  },
  {
   "cell_type": "markdown",
   "metadata": {
    "colab_type": "text",
    "id": "rlnTYgY1j6I2"
   },
   "source": [
    "Diseña un algoritmo para resolver el problema por fuerza bruta"
   ]
  },
  {
   "cell_type": "markdown",
   "metadata": {
    "colab_type": "text",
    "id": "70rDgxYXkC8r"
   },
   "source": [
    "Respuesta"
   ]
  },
  {
   "cell_type": "code",
   "execution_count": 0,
   "metadata": {
    "colab": {},
    "colab_type": "code",
    "id": "CJb5sQ0qkENy"
   },
   "outputs": [],
   "source": []
  },
  {
   "cell_type": "markdown",
   "metadata": {
    "colab_type": "text",
    "id": "tgrnsC2nkFa8"
   },
   "source": [
    "Calcula la complejidad del algoritmo por fuerza bruta"
   ]
  },
  {
   "cell_type": "markdown",
   "metadata": {
    "colab_type": "text",
    "id": "9eUd3xwckP68"
   },
   "source": [
    "Respuesta"
   ]
  },
  {
   "cell_type": "code",
   "execution_count": 0,
   "metadata": {
    "colab": {},
    "colab_type": "code",
    "id": "rvZWwL-ckRST"
   },
   "outputs": [],
   "source": []
  },
  {
   "cell_type": "markdown",
   "metadata": {
    "colab_type": "text",
    "id": "txbrmLmskReM"
   },
   "source": [
    "(*)Diseña un algoritmo que mejore la complejidad del algortimo por fuerza bruta. Argumenta porque crees que mejora el algoritmo por fuerza bruta"
   ]
  },
  {
   "cell_type": "markdown",
   "metadata": {
    "colab_type": "text",
    "id": "hLrVwt5QkZPD"
   },
   "source": [
    "Respuesta"
   ]
  },
  {
   "cell_type": "code",
   "execution_count": 20,
   "metadata": {
    "colab": {},
    "colab_type": "code",
    "id": "m1eyM21Vkabg"
   },
   "outputs": [
    {
     "name": "stdout",
     "output_type": "stream",
     "text": [
      "Solución =  [[14, 26, 24, 29, 23, 17], [30, 16, 12, 28, 18, 19], [2, 22, 20, 6, 1, 9], [3, 5, 25, 8, 15, 4], [13, 27, 11, 21, 7, 10]]\n",
      "Costo =  30\n"
     ]
    },
    {
     "data": {
      "text/plain": [
       "(30,\n",
       " [[14, 26, 24, 29, 23, 17],\n",
       "  [30, 16, 12, 28, 18, 19],\n",
       "  [2, 22, 20, 6, 1, 9],\n",
       "  [3, 5, 25, 8, 15, 4],\n",
       "  [13, 27, 11, 21, 7, 10]])"
      ]
     },
     "execution_count": 20,
     "metadata": {},
     "output_type": "execute_result"
    }
   ],
   "source": [
    "# contains_n_in_solution: esta funcion simplemente valida que un número generado\n",
    "# aleatoriamente no se repita durante la construcción de la solución aleatoria, \n",
    "# recibe como parámetro en número que vamos a agregar y la solución temporal generada\n",
    "# hasta el momento\n",
    "def contains_n_in_solution(n, solucionTemp):\n",
    "    contains = False\n",
    "    for row in solucionTemp:\n",
    "        if n in row:\n",
    "            contains = True\n",
    "            break\n",
    "    return contains\n",
    "\n",
    "\n",
    "# generar_solucion_aleatoria: Genera una solución aleatoria, esto es, ordena aleatoriamente \n",
    "# los numeros de las posiciones de las tomas y retorna la solución aleatoria generada\n",
    "# recibe como parámetro el número total de tomas \n",
    "def generar_solucion_aleatoria(nmax):\n",
    "    solucionTemp = [[0 for i in range(6)] for j in range(5)]\n",
    "    for row in solucionTemp:\n",
    "        for i in range(len(row)):\n",
    "            added = False\n",
    "            while(not added):\n",
    "                n = r.randint(1, nmax)\n",
    "                if not contains_n_in_solution(n, solucionTemp):\n",
    "                    row[i] = n\n",
    "                    added = True\n",
    "    return solucionTemp\n",
    "\n",
    "\n",
    "# validar_solucion: calcula el costo total de la solución aleatoria generada y devuelve\n",
    "# la solución generada y el costo de esta, como parámetro recibe el arreglo con las tomas \n",
    "# y los actores\n",
    "def validar_solucion(tomas):\n",
    "    solucionTemp = generar_solucion_aleatoria(len(tomas))\n",
    "    costoTemp = 0\n",
    "    for i in range(1,10, 1):\n",
    "        added = False\n",
    "        for row in solucionTemp:\n",
    "            for j in range(6):\n",
    "                p = row[j] - 1\n",
    "                if tomas[p][i - 1] == 1:\n",
    "                    costoTemp += 1\n",
    "                    added = True\n",
    "                    break\n",
    "\n",
    "    return costoTemp, solucionTemp\n",
    "\n",
    "# buscar_solucion: recibe como parametros el numero de intentos de busqueda de la solución \n",
    "# óptima y el array con la información de las tomas, básicamente da inicio al mecanismo\n",
    "# de búsqueda de las soluciones aleatorias y devuelve la solución con menor valor\n",
    "# como parámetro recibe el número de intentos para buscar una solución y el array con las tomas\n",
    "# hay que tener en cuenta que tanto más grande es el número de intentos más \n",
    "# optima puodría ser la solución sin embargo llevará más tiempo obtenerla \n",
    "def buscar_solucion(intentos, tomas):\n",
    "    solucion = [[0 for i in range(6)] for j in range(5)]\n",
    "    costo = sys.maxsize\n",
    "    for i in range(intentos):\n",
    "        c, s = validar_solucion(tomas)\n",
    "        if c < costo:\n",
    "            costo = c\n",
    "            solucion = s\n",
    "    print(\"Solución = \",solucion)\n",
    "    print(\"Costo = \", costo)\n",
    "    return costo, solucion\n",
    "\n",
    "buscar_solucion(20000, arr)\n",
    "\n",
    "#[[13, 10, 6, 26, 27, 20], [25, 19, 28, 9, 22, 15], [3, 30, 4, 7, 16, 5], \n",
    "#[23, 12, 14, 29, 2, 1], [21, 8, 24, 11, 18, 17]]\n",
    "#30\n",
    "#[[14, 24, 27, 20, 17, 2], [10, 15, 4, 3, 11, 26], [25, 18, 19, 8, 23, 12], \n",
    "#[28, 7, 29, 21, 5, 1], [13, 6, 9, 16, 30, 22]]\n",
    "#30"
   ]
  },
  {
   "cell_type": "markdown",
   "metadata": {
    "colab_type": "text",
    "id": "eGDB4K6uk1iN"
   },
   "source": [
    "(*)Calcula la complejidad del algoritmo "
   ]
  },
  {
   "cell_type": "markdown",
   "metadata": {
    "colab_type": "text",
    "id": "NhpTh_BPk1ms"
   },
   "source": [
    "Respuesta"
   ]
  },
  {
   "cell_type": "markdown",
   "metadata": {
    "colab": {},
    "colab_type": "code",
    "id": "nREzhkStlCq8"
   },
   "source": [
    "#### La complejidad del algoritmo viene dada en el orden de $ n^2 $ sin embargo, debido a que el algoritmo únicamente genera el número de soluciones indicadas por el usuario incrementa notablemente su eficiencia en comparación con un algoritmo de fuerza bruta."
   ]
  },
  {
   "cell_type": "markdown",
   "metadata": {
    "colab_type": "text",
    "id": "3M6QjTsSkmYe"
   },
   "source": [
    "Según el problema (y tenga sentido), diseña un juego de datos de entrada aleatorios"
   ]
  },
  {
   "cell_type": "markdown",
   "metadata": {
    "colab_type": "text",
    "id": "Jc3_OlyNkvjZ"
   },
   "source": [
    "Respuesta"
   ]
  },
  {
   "cell_type": "code",
   "execution_count": 21,
   "metadata": {
    "colab": {},
    "colab_type": "code",
    "id": "sJ-N2etjkyWc"
   },
   "outputs": [],
   "source": [
    "arr2 =[ #[[r.randint(0, 1) for x in range(10)] for y in range(50)] \n",
    "    [1, 0, 1, 0, 1, 1, 0, 0, 1, 0], \n",
    "    [0, 0, 0, 0, 1, 1, 0, 1, 0, 1], \n",
    "    [1, 1, 0, 1, 0, 1, 0, 0, 1, 0], \n",
    "    [0, 1, 1, 0, 0, 0, 1, 1, 1, 0], \n",
    "    [1, 1, 0, 1, 0, 0, 1, 1, 1, 0], \n",
    "    [0, 0, 0, 1, 0, 1, 0, 1, 0, 0], \n",
    "    [1, 0, 1, 0, 1, 1, 1, 0, 0, 1], \n",
    "    [1, 1, 0, 0, 1, 0, 1, 1, 1, 1], \n",
    "    [0, 0, 1, 1, 1, 1, 1, 1, 1, 0], \n",
    "    [1, 0, 1, 0, 1, 1, 0, 0, 0, 0], \n",
    "    [0, 1, 0, 0, 0, 0, 1, 1, 0, 0], \n",
    "    [1, 1, 0, 1, 1, 1, 0, 0, 1, 1], \n",
    "    [0, 1, 0, 1, 0, 0, 0, 0, 1, 0], \n",
    "    [0, 0, 0, 1, 1, 0, 1, 1, 0, 1], \n",
    "    [0, 1, 1, 1, 0, 0, 1, 1, 1, 0], \n",
    "    [1, 1, 0, 1, 0, 1, 1, 1, 0, 1], \n",
    "    [0, 1, 1, 1, 0, 1, 1, 1, 1, 1], \n",
    "    [0, 0, 0, 0, 1, 1, 1, 0, 1, 0], \n",
    "    [1, 1, 0, 1, 0, 1, 0, 1, 0, 1], \n",
    "    [0, 1, 1, 0, 1, 1, 1, 1, 1, 1], \n",
    "    [0, 0, 0, 0, 0, 0, 0, 0, 0, 1], \n",
    "    [1, 1, 1, 0, 1, 0, 0, 1, 0, 1], \n",
    "    [0, 0, 1, 1, 1, 0, 1, 1, 1, 1], \n",
    "    [0, 0, 0, 1, 1, 1, 0, 0, 1, 0], \n",
    "    [1, 1, 0, 1, 1, 1, 1, 0, 1, 0], \n",
    "    [1, 0, 0, 0, 0, 0, 1, 1, 0, 1], \n",
    "    [0, 1, 1, 0, 1, 0, 0, 1, 0, 1], \n",
    "    [0, 1, 1, 0, 0, 0, 0, 1, 0, 1], \n",
    "    [0, 1, 0, 1, 0, 1, 1, 0, 0, 1], \n",
    "    [1, 1, 1, 1, 0, 1, 0, 0, 1, 0], \n",
    "    [0, 0, 0, 0, 0, 0, 1, 1, 0, 1], \n",
    "    [1, 0, 1, 0, 1, 1, 1, 1, 1, 0], \n",
    "    [1, 0, 1, 1, 1, 0, 1, 1, 1, 0], \n",
    "    [1, 1, 0, 1, 0, 0, 1, 1, 1, 0], \n",
    "    [1, 1, 0, 1, 0, 0, 0, 1, 1, 1], \n",
    "    [0, 0, 1, 0, 0, 1, 0, 1, 0, 1], \n",
    "    [1, 1, 1, 0, 0, 0, 0, 0, 1, 1], \n",
    "    [1, 1, 1, 0, 1, 0, 1, 0, 0, 1], \n",
    "    [0, 1, 0, 0, 1, 1, 1, 0, 0, 1], \n",
    "    [1, 1, 1, 0, 0, 1, 0, 1, 0, 1], \n",
    "    [1, 0, 1, 0, 0, 0, 0, 1, 1, 0], \n",
    "    [0, 1, 1, 0, 0, 0, 0, 1, 1, 0], \n",
    "    [0, 0, 1, 0, 1, 0, 0, 0, 0, 0], \n",
    "    [1, 0, 1, 0, 1, 0, 0, 1, 0, 0], \n",
    "    [0, 1, 0, 1, 0, 1, 1, 1, 0, 1], \n",
    "    [0, 0, 1, 1, 1, 1, 1, 0, 1, 1], \n",
    "    [1, 0, 1, 0, 1, 0, 0, 1, 1, 0], \n",
    "    [1, 1, 1, 1, 0, 0, 0, 0, 0, 1], \n",
    "    [0, 0, 0, 0, 1, 1, 0, 1, 0, 0], \n",
    "    [0, 0, 0, 0, 0, 0, 0, 1, 0, 0]]\n"
   ]
  },
  {
   "cell_type": "markdown",
   "metadata": {
    "colab_type": "text",
    "id": "zy5ZROmjlGo1"
   },
   "source": [
    "Aplica el algoritmo al juego de datos generado"
   ]
  },
  {
   "cell_type": "markdown",
   "metadata": {
    "colab_type": "text",
    "id": "_Cmj-PVylMsa"
   },
   "source": [
    "Respuesta"
   ]
  },
  {
   "cell_type": "code",
   "execution_count": 22,
   "metadata": {
    "colab": {},
    "colab_type": "code",
    "id": "Jkx8GeiYlUz1"
   },
   "outputs": [
    {
     "name": "stdout",
     "output_type": "stream",
     "text": [
      "Solución =  [[45, 34, 6, 15, 37, 17], [21, 36, 13, 35, 48, 12], [3, 10, 7, 29, 20, 4], [1, 2, 32, 49, 14, 46], [42, 26, 27, 8, 47, 22]]\n",
      "Costo =  40\n"
     ]
    },
    {
     "data": {
      "text/plain": [
       "(40,\n",
       " [[45, 34, 6, 15, 37, 17],\n",
       "  [21, 36, 13, 35, 48, 12],\n",
       "  [3, 10, 7, 29, 20, 4],\n",
       "  [1, 2, 32, 49, 14, 46],\n",
       "  [42, 26, 27, 8, 47, 22]])"
      ]
     },
     "execution_count": 22,
     "metadata": {},
     "output_type": "execute_result"
    }
   ],
   "source": [
    "buscar_solucion(20000, arr2)"
   ]
  },
  {
   "cell_type": "markdown",
   "metadata": {
    "colab_type": "text",
    "id": "eTFWUJQrtGcv"
   },
   "source": [
    "Enumera las referencias que has utilizado(si ha sido necesario) para llevar a cabo el trabajo"
   ]
  },
  {
   "cell_type": "markdown",
   "metadata": {
    "colab_type": "text",
    "id": "YKQ_mRBttWsP"
   },
   "source": [
    "Respuesta"
   ]
  },
  {
   "cell_type": "markdown",
   "metadata": {
    "colab_type": "text",
    "id": "kAkDPUyRtYyH"
   },
   "source": [
    "Describe brevemente las lineas de como crees que es posible avanzar en el estudio del problema. Ten en cuenta incluso posibles variaciones del problema y/o variaciones al alza del tamaño"
   ]
  },
  {
   "cell_type": "markdown",
   "metadata": {
    "colab_type": "text",
    "id": "IE0uZmo-tZu-"
   },
   "source": [
    "Respuesta"
   ]
  }
 ],
 "metadata": {
  "colab": {
   "collapsed_sections": [],
   "name": "Seminario - Algoritmos.ipynb",
   "provenance": [],
   "version": "0.3.2"
  },
  "kernelspec": {
   "display_name": "Python 3",
   "language": "python",
   "name": "python3"
  },
  "language_info": {
   "codemirror_mode": {
    "name": "ipython",
    "version": 3
   },
   "file_extension": ".py",
   "mimetype": "text/x-python",
   "name": "python",
   "nbconvert_exporter": "python",
   "pygments_lexer": "ipython3",
   "version": "3.7.4"
  }
 },
 "nbformat": 4,
 "nbformat_minor": 1
}
