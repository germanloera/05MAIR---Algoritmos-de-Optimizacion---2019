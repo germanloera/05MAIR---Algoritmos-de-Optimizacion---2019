{
  "nbformat": 4,
  "nbformat_minor": 0,
  "metadata": {
    "colab": {
      "name": "German Loera - AG3 .ipynb",
      "provenance": [],
      "collapsed_sections": [],
      "authorship_tag": "ABX9TyNiq9QoRaTw+0ADuBD/n1Bi",
      "include_colab_link": true
    },
    "kernelspec": {
      "name": "python3",
      "display_name": "Python 3"
    }
  },
  "cells": [
    {
      "cell_type": "markdown",
      "metadata": {
        "id": "view-in-github",
        "colab_type": "text"
      },
      "source": [
        "<a href=\"https://colab.research.google.com/github/germanloera/05MAIR---Algoritmos-de-Optimizacion---2019/blob/master/German_Loera_AG3_.ipynb\" target=\"_parent\"><img src=\"https://colab.research.google.com/assets/colab-badge.svg\" alt=\"Open In Colab\"/></a>"
      ]
    },
    {
      "cell_type": "markdown",
      "metadata": {
        "id": "0_zU1sFu7m5d",
        "colab_type": "text"
      },
      "source": [
        "Actividad Guiada 3 - AG3 <br>\n",
        "Germán Loera <br>\n",
        "Url: https://colab.research.google.com/drive/1-KF1OkPmebpGITTuPj2C_waVCvd2yFiB"
      ]
    },
    {
      "cell_type": "code",
      "metadata": {
        "id": "shH-_kglBIbJ",
        "colab_type": "code",
        "outputId": "afb35d77-7ec2-46fa-c359-3e5d46be16cb",
        "colab": {
          "base_uri": "https://localhost:8080/",
          "height": 156
        }
      },
      "source": [
        "!pip install tsplib95"
      ],
      "execution_count": 0,
      "outputs": [
        {
          "output_type": "stream",
          "text": [
            "Collecting tsplib95\n",
            "  Downloading https://files.pythonhosted.org/packages/dc/43/039c0621085202f19d6c12b06330bf109743083ce4024137b4713da9c40b/tsplib95-0.6.1-py2.py3-none-any.whl\n",
            "Requirement already satisfied: Click>=6.0 in /usr/local/lib/python3.6/dist-packages (from tsplib95) (7.0)\n",
            "Requirement already satisfied: networkx~=2.1 in /usr/local/lib/python3.6/dist-packages (from tsplib95) (2.4)\n",
            "Requirement already satisfied: decorator>=4.3.0 in /usr/local/lib/python3.6/dist-packages (from networkx~=2.1->tsplib95) (4.4.1)\n",
            "Installing collected packages: tsplib95\n",
            "Successfully installed tsplib95-0.6.1\n"
          ],
          "name": "stdout"
        }
      ]
    },
    {
      "cell_type": "code",
      "metadata": {
        "id": "HtZb-YHvBIln",
        "colab_type": "code",
        "outputId": "7b3f1cb4-d5c0-4d80-a386-e388987b75c9",
        "colab": {
          "base_uri": "https://localhost:8080/",
          "height": 34
        }
      },
      "source": [
        "import urllib.request\n",
        "\n",
        "file = \"swiss42.tsp\"\n",
        "\n",
        "urllib.request.urlretrieve(\"http://elib.zib.de/pub/mp-testdata/tsp/tsplib/tsp/swiss42.tsp\", file)\n"
      ],
      "execution_count": 0,
      "outputs": [
        {
          "output_type": "execute_result",
          "data": {
            "text/plain": [
              "('swiss42.tsp', <http.client.HTTPMessage at 0x7f3d7c48c4e0>)"
            ]
          },
          "metadata": {
            "tags": []
          },
          "execution_count": 4
        }
      ]
    },
    {
      "cell_type": "code",
      "metadata": {
        "id": "OZpQ1RGeClKM",
        "colab_type": "code",
        "colab": {}
      },
      "source": [
        "import tsplib95\n",
        "import random\n",
        "import math\n",
        "\n",
        "\n",
        "problem = tsplib95.load_problem(file)\n",
        "Nodos = list(problem.get_nodes())\n",
        "Aristas = list ( problem.get_edges())\n",
        "\n",
        "\n",
        "# Se genera una solucion aleatoria con comienzo en el nodo 0\n",
        "def crear_solucion(Nodos):\n",
        "  solucion = [0]\n",
        "  for i in range(len(Nodos) - 1):\n",
        "    solucion = solucion + [ random.choice(list(set(Nodos)  - set(solucion)))]\n",
        "  return solucion\n",
        "\n",
        "# Devuelve la distancia entre 2 nodos\n",
        "def distancia(a, b , problem):\n",
        "  return problem.wfunc(a,b)\n",
        "\n",
        "# Devuelve la distancia total de una trayectoria/solucion\n",
        "\n",
        "def distancia_total(solucion, problema):\n",
        "  distancia_total = 0\n",
        "  for i in range(len(solucion) - 1 ):\n",
        "    distancia_total += distancia(solucion[i], solucion[i +1 ], problem)\n",
        "  return distancia_total + distancia ( solucion[len(solucion) - 1], solucion[0], problem)\n"
      ],
      "execution_count": 0,
      "outputs": []
    },
    {
      "cell_type": "code",
      "metadata": {
        "id": "sSM4yquFIubm",
        "colab_type": "code",
        "outputId": "ebe4c3a5-a7e0-4a6e-8dbc-75f7e5f8e72c",
        "colab": {
          "base_uri": "https://localhost:8080/",
          "height": 54
        }
      },
      "source": [
        "# Busqueda Aleatoria\n",
        "def busqueda_aleatoria(problem, N):\n",
        "  mejor_solucion = crear_solucion(Nodos)\n",
        "  mejor_valor = distancia_total(mejor_solucion, problem)\n",
        "\n",
        "  for i in range(N):\n",
        "    solucion = crear_solucion(Nodos)\n",
        "    valor = distancia_total(solucion, problem)\n",
        "    if valor < mejor_valor:\n",
        "      mejor_valor = valor\n",
        "      mejor_solucion = solucion\n",
        "  print(\"la mejor solucion es \", mejor_valor, mejor_solucion)\n",
        "\n",
        "busqueda_aleatoria(problem, 50000)"
      ],
      "execution_count": 0,
      "outputs": [
        {
          "output_type": "stream",
          "text": [
            "la mejor solucion es  3247 [0, 28, 5, 15, 7, 17, 18, 29, 31, 38, 25, 13, 11, 26, 10, 41, 23, 9, 22, 21, 1, 16, 37, 35, 36, 3, 6, 12, 19, 32, 34, 20, 33, 30, 40, 8, 39, 24, 4, 14, 2, 27]\n"
          ],
          "name": "stdout"
        }
      ]
    },
    {
      "cell_type": "code",
      "metadata": {
        "id": "c1Ta0nM8Mpnr",
        "colab_type": "code",
        "colab": {}
      },
      "source": [
        "def genera_vecina(solucion):\n",
        "  #Generador de soluciones vecinas: 2-opt (intercambiar 2 nodos) Si hay N nodos se generan (N-1)x(N-2)/2 soluciones\n",
        "  #print(solucion)\n",
        "  mejor_solucion = []\n",
        "  mejor_distancia = 10e100\n",
        "  for i in range(1,len(solucion)-1):\n",
        "    for j in range(i+1, len(solucion)):\n",
        "      vecina = solucion[:i] + [solucion[j]] + solucion[i+1:j] + [solucion[i]] + solucion[j+1:] \n",
        "      distancia_vecina = distancia_total(vecina, problem)\n",
        "      if distancia_vecina <= mejor_distancia:\n",
        "        mejor_distancia = distancia_vecina\n",
        "        mejor_solucion = vecina\n",
        "  return mejor_solucion\n",
        "      \n",
        "solucion = crear_solucion(Nodos)\n",
        "mejor_solucion = genera_vecina(solucion)"
      ],
      "execution_count": 0,
      "outputs": []
    },
    {
      "cell_type": "code",
      "metadata": {
        "id": "m8__XDbZPVTI",
        "colab_type": "code",
        "outputId": "3834f083-f581-41e6-bfed-82229f07b4b7",
        "colab": {
          "base_uri": "https://localhost:8080/",
          "height": 54
        }
      },
      "source": [
        "#####################################################################\n",
        "def busqueda_local(problem, N):\n",
        "  #problem = datos del problema\n",
        "  #N = numero de iteraciones\n",
        "  \n",
        "  mejor_solucion = []\n",
        "  mejor_distancia = 10e100\n",
        "  \n",
        "  solucion_referencia = crear_solucion(Nodos)\n",
        "  \n",
        "  for i in range(N):\n",
        "    vecina = genera_vecina(solucion_referencia)\n",
        "    distancia_vecina = distancia_total(vecina, problem)\n",
        "    if distancia_vecina <= mejor_distancia:\n",
        "      mejor_solucion = vecina\n",
        "      mejor_distancia = distancia_vecina\n",
        "        \n",
        "    solucion_referencia = vecina\n",
        "  \n",
        "  print(\"La mejor solución encontrada es \" , mejor_distancia , mejor_solucion)\n",
        "\n",
        "sol = busqueda_local(problem, 100)\n"
      ],
      "execution_count": 0,
      "outputs": [
        {
          "output_type": "stream",
          "text": [
            "La mejor solución encontrada es  1756 [0, 27, 2, 28, 29, 30, 38, 34, 33, 20, 31, 17, 37, 15, 16, 14, 7, 32, 1, 6, 4, 3, 8, 10, 18, 13, 19, 36, 35, 22, 39, 24, 40, 21, 9, 23, 41, 25, 11, 12, 26, 5]\n"
          ],
          "name": "stdout"
        }
      ]
    },
    {
      "cell_type": "code",
      "metadata": {
        "id": "vISf1aL0emIo",
        "colab_type": "code",
        "outputId": "5436dd2e-5478-4fc0-d7cc-de87a0ac0ce2",
        "colab": {
          "base_uri": "https://localhost:8080/",
          "height": 71
        }
      },
      "source": [
        "def genera_vecina_aleatorio(solucion):\n",
        "  #Generador de 1 solucion vecina 2-opt (intercambiar 2 nodos)\n",
        "  #Se puede mejorar haciendo que la elección no se uniforme sino entre las que estén más proximas\n",
        "  i = random.choice(range(1, len(solucion)) )\n",
        "  j = random.choice(list(set(range(1, len(solucion))) - {i}))\n",
        "  if j<i:\n",
        "    i,j=j,i\n",
        "  vecina = list(solucion[:i] + [solucion[j]] + solucion[i+1:j] + [solucion[i]] + solucion[j+1:])\n",
        "  return vecina\n",
        "\n",
        "solucion = crear_solucion(Nodos)\n",
        "print(solucion, \"\\n \", genera_vecina_aleatorio(solucion))"
      ],
      "execution_count": 0,
      "outputs": [
        {
          "output_type": "stream",
          "text": [
            "[0, 38, 20, 35, 33, 25, 11, 26, 5, 10, 29, 4, 30, 24, 2, 31, 1, 36, 17, 9, 40, 18, 15, 12, 27, 6, 41, 34, 3, 22, 37, 7, 8, 28, 19, 23, 32, 21, 13, 16, 39, 14] \n",
            "  [0, 38, 20, 35, 33, 25, 11, 26, 5, 10, 29, 4, 30, 24, 2, 31, 1, 36, 17, 9, 40, 18, 15, 12, 7, 6, 41, 34, 3, 22, 37, 27, 8, 28, 19, 23, 32, 21, 13, 16, 39, 14]\n"
          ],
          "name": "stdout"
        }
      ]
    },
    {
      "cell_type": "code",
      "metadata": {
        "id": "PTfN-qg7hL-N",
        "colab_type": "code",
        "colab": {}
      },
      "source": [
        "#    a una solución peor respecto a la de referencia(exponencial)\n",
        "def probabilidad(T,d):\n",
        "  if random.random() <= math.exp(-1*d / T)   :\n",
        "    return True\n",
        "  else:\n",
        "    return False\n",
        "\n",
        "\n",
        "def bajar_temperatura(T):\n",
        "  return T*.9999\n"
      ],
      "execution_count": 0,
      "outputs": []
    },
    {
      "cell_type": "code",
      "metadata": {
        "id": "WCZCfGRFh1cq",
        "colab_type": "code",
        "outputId": "9995285d-b3a2-4b38-bf56-93b96f3920cf",
        "colab": {
          "base_uri": "https://localhost:8080/",
          "height": 1000
        }
      },
      "source": [
        "def recocido_simulado(problem, TEMPERATURA=1000):\n",
        "  #problem = datos del problema\n",
        "\n",
        "  solucion_referencia = crear_solucion(Nodos)\n",
        "  distancia_referencia = distancia_total(solucion_referencia, problem)\n",
        "  \n",
        "  mejor_solucion = []\n",
        "  mejor_distancia = 10e100\n",
        "\n",
        "  while TEMPERATURA > 1:\n",
        "    #Genera una solución vecina(aleatoria)\n",
        "    vecina = genera_vecina_aleatorio(solucion_referencia) \n",
        "    \n",
        "    #Calcula su valor(distancia)\n",
        "    distancia_vecina = distancia_total(vecina, problem)\n",
        "    \n",
        "    #Si es la mejor solución de todas se guarda\n",
        "    if distancia_vecina < mejor_distancia:\n",
        "      mejor_solucion = vecina\n",
        "      mejor_distancia = distancia_vecina\n",
        "      print('\\t****Encontrada mejor solucion:', mejor_distancia , mejor_solucion, '\\n')\n",
        "    \n",
        "    #Si la nueva vecina es mejor se cambia y si es peor se cambia según \n",
        "    # una probabilidad dependiente de T y de |distancia_referencia - distancia_vecina|\n",
        "    p = probabilidad(TEMPERATURA, abs(distancia_referencia - distancia_vecina) )\n",
        "    if distancia_vecina < distancia_referencia or p :\n",
        "      solucion_referencia = vecina\n",
        "      distancia_referencia = distancia_vecina\n",
        "    \n",
        "    TEMPERATURA = bajar_temperatura(TEMPERATURA)\n",
        "\n",
        "  print(\"La mejor solución encontrada es :\" , mejor_distancia, mejor_solucion  )\n",
        "  return mejor_solucion\n",
        "\n",
        "sol = recocido_simulado(problem, TEMPERATURA=10000)\n",
        "\n"
      ],
      "execution_count": 0,
      "outputs": [
        {
          "output_type": "stream",
          "text": [
            "\t****Encontrada mejor solucion: 4457 [0, 22, 24, 28, 38, 17, 31, 21, 8, 2, 12, 30, 34, 3, 23, 35, 15, 39, 9, 1, 16, 6, 7, 5, 40, 19, 14, 33, 36, 32, 29, 26, 27, 41, 25, 10, 13, 37, 11, 4, 20, 18] \n",
            "\n",
            "\t****Encontrada mejor solucion: 4434 [0, 26, 6, 28, 38, 17, 31, 21, 8, 41, 12, 30, 34, 3, 23, 11, 15, 39, 9, 1, 16, 24, 7, 5, 40, 19, 14, 33, 36, 32, 29, 22, 27, 2, 25, 10, 13, 37, 35, 4, 20, 18] \n",
            "\n",
            "\t****Encontrada mejor solucion: 4364 [0, 26, 6, 28, 38, 11, 20, 21, 8, 41, 12, 30, 15, 19, 23, 16, 34, 39, 9, 1, 40, 24, 7, 5, 17, 3, 14, 33, 36, 32, 29, 22, 27, 2, 25, 10, 13, 37, 35, 4, 31, 18] \n",
            "\n",
            "\t****Encontrada mejor solucion: 4332 [0, 37, 22, 19, 35, 41, 11, 38, 34, 3, 12, 13, 30, 29, 28, 31, 5, 2, 10, 25, 33, 18, 23, 24, 8, 27, 1, 6, 4, 40, 9, 21, 32, 16, 39, 15, 20, 17, 36, 14, 7, 26] \n",
            "\n",
            "\t****Encontrada mejor solucion: 4184 [0, 37, 22, 19, 26, 41, 11, 38, 34, 3, 12, 13, 30, 29, 28, 31, 5, 2, 10, 25, 33, 18, 23, 24, 8, 27, 1, 6, 4, 40, 9, 21, 32, 16, 39, 15, 20, 17, 36, 14, 7, 35] \n",
            "\n",
            "\t****Encontrada mejor solucion: 4128 [0, 26, 32, 9, 16, 10, 4, 15, 22, 39, 38, 12, 25, 13, 11, 2, 34, 21, 41, 8, 27, 29, 40, 28, 23, 30, 7, 17, 1, 37, 18, 6, 35, 31, 19, 14, 20, 33, 24, 3, 5, 36] \n",
            "\n",
            "\t****Encontrada mejor solucion: 4121 [0, 15, 14, 12, 33, 34, 4, 8, 28, 31, 40, 24, 27, 5, 13, 16, 29, 3, 32, 36, 17, 35, 30, 11, 9, 2, 39, 38, 7, 26, 41, 25, 22, 23, 37, 20, 1, 18, 10, 6, 19, 21] \n",
            "\n",
            "\t****Encontrada mejor solucion: 3884 [0, 15, 14, 12, 33, 34, 4, 8, 28, 30, 40, 24, 27, 5, 13, 16, 29, 3, 32, 36, 17, 35, 31, 11, 9, 2, 39, 38, 7, 26, 41, 25, 22, 23, 37, 20, 1, 18, 10, 6, 19, 21] \n",
            "\n",
            "\t****Encontrada mejor solucion: 3878 [0, 15, 14, 12, 33, 34, 4, 8, 28, 30, 40, 24, 18, 5, 13, 16, 29, 3, 32, 36, 17, 35, 31, 11, 9, 2, 39, 38, 7, 26, 41, 25, 22, 23, 27, 20, 1, 37, 10, 6, 19, 21] \n",
            "\n",
            "\t****Encontrada mejor solucion: 3876 [0, 23, 28, 26, 36, 1, 16, 5, 10, 29, 30, 25, 13, 4, 27, 31, 33, 12, 3, 8, 6, 17, 35, 34, 38, 39, 20, 21, 24, 32, 37, 14, 40, 9, 22, 41, 2, 18, 11, 19, 7, 15] \n",
            "\n",
            "\t****Encontrada mejor solucion: 3806 [0, 31, 3, 25, 7, 2, 8, 33, 38, 9, 21, 18, 12, 16, 10, 32, 40, 29, 30, 34, 26, 41, 19, 11, 13, 14, 1, 28, 22, 23, 39, 24, 20, 35, 17, 37, 15, 27, 4, 5, 36, 6] \n",
            "\n",
            "\t****Encontrada mejor solucion: 3682 [0, 6, 25, 26, 18, 5, 27, 1, 36, 7, 22, 14, 4, 11, 15, 16, 31, 39, 37, 35, 17, 12, 29, 24, 23, 21, 9, 40, 38, 33, 2, 8, 10, 41, 30, 3, 19, 13, 28, 34, 32, 20] \n",
            "\n",
            "\t****Encontrada mejor solucion: 3651 [0, 5, 27, 19, 10, 8, 23, 4, 7, 17, 30, 2, 34, 12, 6, 26, 3, 18, 36, 1, 15, 38, 29, 32, 22, 31, 33, 35, 20, 14, 37, 16, 9, 40, 25, 41, 24, 39, 21, 11, 13, 28] \n",
            "\n",
            "\t****Encontrada mejor solucion: 3568 [0, 5, 27, 19, 10, 8, 25, 4, 7, 17, 30, 2, 34, 12, 6, 26, 3, 18, 36, 1, 15, 38, 29, 32, 22, 31, 33, 35, 20, 14, 37, 16, 9, 40, 23, 41, 24, 39, 21, 11, 13, 28] \n",
            "\n",
            "\t****Encontrada mejor solucion: 3523 [0, 6, 14, 35, 36, 5, 1, 2, 32, 17, 24, 29, 9, 21, 22, 34, 40, 39, 38, 7, 15, 31, 33, 3, 26, 27, 10, 28, 4, 20, 18, 30, 23, 12, 11, 8, 25, 41, 37, 13, 16, 19] \n",
            "\n",
            "\t****Encontrada mejor solucion: 3361 [0, 6, 14, 35, 36, 5, 1, 2, 32, 17, 24, 29, 9, 21, 22, 34, 40, 39, 38, 7, 15, 31, 33, 3, 26, 18, 10, 28, 4, 20, 27, 30, 23, 12, 11, 8, 25, 41, 37, 13, 16, 19] \n",
            "\n",
            "\t****Encontrada mejor solucion: 3338 [0, 3, 28, 41, 32, 17, 20, 31, 27, 38, 22, 11, 39, 2, 9, 29, 30, 40, 21, 24, 23, 25, 8, 4, 7, 35, 34, 10, 33, 26, 13, 15, 36, 37, 6, 14, 19, 18, 12, 16, 5, 1] \n",
            "\n",
            "\t****Encontrada mejor solucion: 3303 [0, 27, 26, 14, 16, 15, 1, 32, 22, 10, 11, 24, 25, 38, 9, 41, 21, 40, 39, 33, 6, 2, 7, 37, 35, 34, 8, 28, 30, 20, 31, 36, 19, 3, 23, 29, 4, 5, 17, 13, 18, 12] \n",
            "\n",
            "\t****Encontrada mejor solucion: 3238 [0, 20, 38, 39, 24, 8, 13, 36, 31, 5, 26, 32, 11, 21, 4, 30, 22, 29, 28, 2, 1, 16, 7, 19, 3, 27, 17, 6, 35, 37, 18, 12, 25, 10, 23, 40, 41, 9, 34, 33, 14, 15] \n",
            "\n",
            "\t****Encontrada mejor solucion: 3225 [0, 20, 38, 39, 24, 8, 13, 36, 31, 5, 26, 32, 11, 21, 4, 30, 22, 29, 28, 2, 1, 16, 7, 19, 3, 27, 35, 6, 17, 37, 18, 12, 25, 10, 23, 40, 41, 9, 34, 33, 14, 15] \n",
            "\n",
            "\t****Encontrada mejor solucion: 3208 [0, 32, 26, 7, 12, 18, 17, 31, 35, 16, 25, 29, 22, 38, 21, 24, 23, 41, 9, 11, 10, 8, 27, 4, 6, 28, 34, 30, 14, 20, 36, 37, 2, 3, 1, 5, 39, 40, 33, 13, 19, 15] \n",
            "\n",
            "\t****Encontrada mejor solucion: 3074 [0, 32, 20, 7, 31, 36, 17, 14, 27, 3, 8, 29, 22, 38, 34, 39, 9, 41, 30, 11, 10, 23, 25, 18, 6, 4, 1, 33, 13, 5, 26, 19, 2, 28, 16, 35, 24, 40, 21, 12, 37, 15] \n",
            "\n",
            "\t****Encontrada mejor solucion: 3002 [0, 32, 20, 7, 31, 36, 17, 14, 19, 3, 8, 29, 22, 38, 34, 39, 9, 41, 30, 11, 10, 23, 25, 18, 6, 4, 1, 33, 13, 5, 26, 27, 2, 28, 16, 35, 24, 40, 21, 12, 37, 15] \n",
            "\n",
            "\t****Encontrada mejor solucion: 2982 [0, 32, 20, 7, 31, 36, 17, 14, 19, 3, 8, 29, 22, 38, 34, 39, 9, 41, 30, 11, 10, 23, 25, 18, 6, 4, 1, 26, 13, 5, 33, 27, 2, 28, 16, 35, 24, 40, 21, 12, 37, 15] \n",
            "\n",
            "\t****Encontrada mejor solucion: 2980 [0, 32, 20, 7, 31, 36, 17, 14, 19, 3, 8, 29, 22, 38, 34, 39, 9, 41, 30, 11, 10, 23, 25, 18, 6, 4, 28, 26, 13, 5, 33, 27, 2, 1, 16, 35, 24, 40, 21, 12, 37, 15] \n",
            "\n",
            "\t****Encontrada mejor solucion: 2953 [0, 32, 20, 7, 31, 36, 17, 14, 19, 6, 8, 29, 22, 38, 34, 39, 23, 41, 30, 11, 10, 9, 25, 2, 3, 4, 28, 26, 13, 5, 18, 27, 33, 15, 16, 35, 24, 40, 21, 12, 37, 1] \n",
            "\n",
            "\t****Encontrada mejor solucion: 2891 [0, 27, 26, 37, 14, 7, 12, 23, 40, 39, 24, 21, 29, 30, 38, 22, 3, 18, 20, 33, 34, 36, 35, 41, 4, 2, 11, 17, 31, 32, 19, 10, 25, 9, 8, 6, 28, 5, 13, 15, 16, 1] \n",
            "\n",
            "\t****Encontrada mejor solucion: 2857 [0, 27, 26, 37, 14, 7, 12, 23, 40, 39, 24, 21, 29, 30, 38, 22, 3, 18, 20, 33, 34, 36, 35, 41, 4, 2, 11, 17, 31, 32, 5, 10, 25, 9, 8, 6, 28, 19, 13, 15, 16, 1] \n",
            "\n",
            "\t****Encontrada mejor solucion: 2805 [0, 27, 26, 37, 14, 7, 12, 23, 40, 39, 24, 21, 29, 30, 38, 22, 3, 18, 20, 33, 34, 36, 35, 28, 4, 2, 11, 17, 31, 32, 5, 10, 25, 9, 8, 6, 41, 19, 13, 15, 16, 1] \n",
            "\n",
            "\t****Encontrada mejor solucion: 2689 [0, 27, 26, 37, 14, 7, 12, 23, 40, 39, 24, 21, 29, 30, 38, 22, 3, 18, 20, 33, 34, 36, 35, 28, 4, 2, 11, 17, 31, 32, 5, 6, 25, 9, 8, 10, 41, 19, 13, 15, 16, 1] \n",
            "\n",
            "\t****Encontrada mejor solucion: 2663 [0, 14, 37, 36, 35, 4, 12, 23, 40, 39, 24, 21, 29, 30, 38, 22, 3, 31, 20, 33, 34, 28, 18, 19, 6, 2, 26, 11, 5, 27, 7, 32, 25, 9, 8, 10, 41, 13, 17, 15, 16, 1] \n",
            "\n",
            "\t****Encontrada mejor solucion: 2551 [0, 30, 33, 32, 2, 35, 34, 38, 29, 20, 31, 17, 36, 7, 27, 1, 3, 4, 5, 26, 28, 23, 25, 37, 19, 15, 16, 14, 13, 10, 18, 12, 11, 8, 41, 9, 21, 24, 40, 39, 22, 6] \n",
            "\n",
            "\t****Encontrada mejor solucion: 2530 [0, 30, 33, 32, 2, 35, 34, 38, 29, 20, 31, 17, 36, 7, 27, 1, 3, 4, 5, 26, 28, 9, 25, 37, 19, 15, 16, 14, 13, 10, 18, 12, 11, 8, 41, 23, 21, 24, 40, 39, 22, 6] \n",
            "\n",
            "\t****Encontrada mejor solucion: 2481 [0, 1, 18, 12, 25, 11, 10, 29, 4, 3, 31, 37, 15, 7, 26, 13, 5, 19, 16, 14, 32, 17, 6, 2, 28, 30, 34, 33, 38, 22, 39, 20, 23, 40, 24, 21, 41, 9, 8, 36, 35, 27] \n",
            "\n",
            "\t****Encontrada mejor solucion: 2443 [0, 1, 18, 12, 25, 11, 10, 29, 4, 3, 31, 37, 15, 7, 26, 5, 13, 19, 16, 14, 32, 17, 6, 2, 28, 30, 34, 33, 38, 22, 39, 20, 23, 40, 24, 21, 41, 9, 8, 36, 35, 27] \n",
            "\n",
            "\t****Encontrada mejor solucion: 2428 [0, 26, 2, 15, 7, 5, 18, 10, 29, 3, 4, 14, 37, 16, 19, 13, 12, 11, 40, 24, 21, 23, 41, 25, 8, 28, 30, 38, 9, 39, 22, 20, 6, 31, 32, 1, 27, 17, 36, 35, 33, 34] \n",
            "\n",
            "\t****Encontrada mejor solucion: 2392 [0, 26, 2, 15, 7, 5, 18, 10, 29, 3, 4, 14, 37, 16, 19, 13, 12, 11, 40, 24, 21, 23, 41, 25, 8, 28, 30, 38, 9, 39, 22, 20, 6, 31, 32, 27, 1, 17, 36, 35, 33, 34] \n",
            "\n",
            "\t****Encontrada mejor solucion: 2352 [0, 26, 2, 15, 7, 5, 18, 10, 29, 3, 4, 14, 37, 16, 19, 13, 12, 11, 40, 24, 21, 23, 41, 25, 8, 28, 30, 38, 9, 39, 22, 20, 34, 31, 32, 27, 1, 17, 36, 35, 33, 6] \n",
            "\n",
            "\t****Encontrada mejor solucion: 2286 [0, 37, 15, 4, 1, 5, 26, 12, 11, 13, 14, 19, 6, 3, 25, 18, 8, 21, 40, 29, 30, 32, 38, 22, 24, 39, 9, 23, 41, 10, 33, 34, 20, 36, 35, 17, 31, 16, 27, 2, 28, 7] \n",
            "\n",
            "\t****Encontrada mejor solucion: 2243 [0, 32, 1, 5, 7, 17, 37, 12, 11, 13, 19, 14, 16, 26, 25, 39, 21, 40, 24, 22, 38, 9, 10, 18, 2, 8, 41, 23, 30, 31, 15, 36, 35, 20, 33, 34, 28, 29, 3, 4, 6, 27] \n",
            "\n",
            "\t****Encontrada mejor solucion: 2184 [0, 4, 27, 30, 17, 37, 7, 1, 13, 14, 15, 16, 19, 6, 22, 38, 39, 24, 40, 21, 9, 5, 26, 10, 23, 41, 28, 29, 8, 2, 31, 36, 35, 20, 33, 34, 32, 3, 11, 12, 25, 18] \n",
            "\n",
            "\t****Encontrada mejor solucion: 2176 [0, 27, 2, 30, 17, 37, 7, 1, 13, 14, 16, 15, 19, 6, 22, 38, 39, 24, 40, 21, 9, 18, 26, 10, 23, 41, 28, 29, 8, 4, 31, 36, 35, 20, 33, 34, 32, 3, 11, 12, 25, 5] \n",
            "\n",
            "\t****Encontrada mejor solucion: 2157 [0, 27, 2, 28, 17, 37, 7, 1, 13, 14, 16, 15, 19, 9, 22, 38, 39, 24, 40, 21, 8, 18, 26, 10, 23, 41, 30, 29, 6, 4, 31, 36, 35, 20, 33, 34, 32, 3, 11, 12, 25, 5] \n",
            "\n",
            "\t****Encontrada mejor solucion: 2138 [0, 27, 2, 28, 17, 37, 7, 1, 13, 14, 16, 15, 19, 9, 22, 38, 39, 24, 40, 21, 8, 18, 26, 10, 23, 41, 30, 29, 3, 4, 31, 36, 35, 20, 33, 34, 32, 6, 11, 12, 25, 5] \n",
            "\n",
            "\t****Encontrada mejor solucion: 2115 [0, 3, 28, 6, 17, 37, 15, 5, 13, 19, 16, 14, 7, 29, 22, 38, 39, 24, 40, 21, 8, 11, 18, 12, 9, 23, 41, 30, 2, 32, 31, 36, 35, 20, 34, 33, 27, 1, 25, 10, 26, 4] \n",
            "\n",
            "\t****Encontrada mejor solucion: 2109 [0, 3, 28, 6, 17, 37, 15, 5, 13, 19, 16, 14, 7, 29, 22, 38, 39, 24, 40, 21, 8, 11, 18, 12, 9, 23, 41, 30, 2, 32, 31, 36, 35, 20, 34, 33, 27, 1, 10, 25, 26, 4] \n",
            "\n",
            "\t****Encontrada mejor solucion: 2105 [0, 2, 27, 29, 30, 26, 11, 13, 14, 16, 31, 17, 32, 28, 22, 38, 39, 40, 24, 21, 23, 8, 12, 41, 9, 25, 10, 4, 7, 15, 37, 36, 35, 20, 33, 34, 3, 1, 5, 18, 19, 6] \n",
            "\n",
            "\t****Encontrada mejor solucion: 2042 [0, 2, 27, 29, 30, 18, 11, 13, 14, 16, 31, 17, 32, 28, 22, 38, 39, 40, 24, 21, 23, 8, 12, 41, 9, 25, 10, 4, 7, 15, 37, 36, 35, 20, 33, 34, 3, 1, 5, 26, 19, 6] \n",
            "\n",
            "\t****Encontrada mejor solucion: 2033 [0, 2, 27, 29, 30, 18, 11, 13, 14, 16, 31, 17, 32, 28, 22, 38, 39, 40, 24, 21, 23, 9, 12, 41, 8, 25, 10, 4, 7, 15, 37, 36, 35, 20, 33, 34, 3, 1, 5, 26, 19, 6] \n",
            "\n",
            "\t****Encontrada mejor solucion: 2016 [0, 2, 27, 28, 30, 12, 18, 13, 15, 16, 31, 17, 32, 29, 22, 38, 39, 40, 24, 21, 9, 23, 11, 41, 8, 25, 10, 4, 6, 14, 37, 36, 35, 20, 33, 34, 3, 19, 26, 5, 1, 7] \n",
            "\n",
            "\t****Encontrada mejor solucion: 1990 [0, 2, 27, 28, 30, 12, 18, 26, 15, 16, 31, 17, 32, 29, 22, 38, 39, 40, 24, 21, 9, 23, 11, 41, 8, 25, 10, 4, 6, 14, 37, 36, 35, 20, 33, 34, 3, 19, 13, 5, 1, 7] \n",
            "\n",
            "\t****Encontrada mejor solucion: 1987 [0, 2, 27, 28, 30, 10, 18, 26, 15, 16, 31, 17, 32, 29, 38, 22, 39, 40, 24, 21, 9, 23, 11, 41, 8, 25, 12, 4, 3, 14, 37, 36, 35, 20, 33, 34, 6, 19, 13, 5, 1, 7] \n",
            "\n",
            "\t****Encontrada mejor solucion: 1979 [0, 2, 27, 28, 30, 10, 18, 26, 15, 16, 14, 17, 32, 29, 38, 22, 39, 40, 24, 21, 9, 23, 11, 41, 8, 25, 12, 4, 3, 31, 37, 36, 35, 20, 33, 34, 6, 19, 13, 5, 1, 7] \n",
            "\n",
            "\t****Encontrada mejor solucion: 1915 [0, 2, 27, 28, 30, 10, 18, 26, 15, 16, 14, 37, 32, 29, 38, 22, 39, 40, 24, 21, 9, 23, 11, 41, 8, 25, 12, 4, 3, 31, 17, 36, 35, 20, 33, 34, 6, 19, 13, 5, 1, 7] \n",
            "\n",
            "\t****Encontrada mejor solucion: 1903 [0, 1, 6, 26, 11, 12, 18, 5, 13, 19, 15, 7, 2, 30, 22, 38, 39, 24, 40, 21, 23, 9, 10, 25, 41, 8, 29, 32, 4, 17, 31, 33, 20, 34, 35, 36, 16, 37, 14, 27, 3, 28] \n",
            "\n",
            "\t****Encontrada mejor solucion: 1886 [0, 1, 6, 26, 11, 12, 18, 5, 13, 19, 14, 7, 2, 30, 22, 38, 39, 24, 40, 21, 23, 9, 10, 25, 41, 8, 29, 32, 4, 17, 31, 33, 20, 34, 35, 36, 16, 37, 15, 27, 3, 28] \n",
            "\n",
            "\t****Encontrada mejor solucion: 1877 [0, 7, 6, 26, 11, 12, 18, 5, 13, 19, 14, 1, 28, 30, 22, 38, 39, 24, 40, 21, 23, 9, 10, 25, 41, 8, 29, 27, 4, 17, 31, 33, 20, 34, 35, 36, 15, 37, 16, 32, 3, 2] \n",
            "\n",
            "\t****Encontrada mejor solucion: 1854 [0, 7, 6, 26, 11, 12, 18, 5, 13, 19, 14, 1, 28, 30, 22, 38, 39, 24, 40, 21, 23, 9, 10, 25, 41, 8, 29, 27, 4, 17, 31, 33, 34, 20, 35, 36, 15, 37, 16, 32, 3, 2] \n",
            "\n",
            "\t****Encontrada mejor solucion: 1821 [0, 7, 6, 26, 18, 12, 11, 5, 13, 19, 14, 32, 28, 30, 22, 38, 39, 24, 40, 21, 23, 9, 10, 25, 41, 8, 29, 27, 4, 17, 31, 33, 34, 20, 35, 36, 15, 37, 16, 1, 3, 2] \n",
            "\n",
            "\t****Encontrada mejor solucion: 1798 [0, 7, 6, 26, 18, 12, 11, 5, 13, 19, 14, 4, 28, 30, 22, 38, 39, 24, 40, 21, 23, 9, 10, 25, 41, 8, 29, 27, 32, 17, 31, 33, 34, 20, 35, 36, 15, 37, 16, 1, 3, 2] \n",
            "\n",
            "\t****Encontrada mejor solucion: 1762 [0, 2, 3, 4, 6, 26, 12, 11, 13, 19, 18, 27, 28, 29, 38, 22, 39, 40, 24, 21, 9, 41, 23, 25, 10, 8, 30, 5, 15, 14, 16, 1, 7, 31, 37, 17, 36, 35, 20, 33, 34, 32] \n",
            "\n",
            "\t****Encontrada mejor solucion: 1747 [0, 2, 3, 4, 6, 26, 12, 11, 13, 19, 18, 27, 28, 29, 38, 22, 39, 40, 24, 21, 9, 41, 23, 25, 10, 8, 30, 5, 15, 14, 16, 1, 7, 31, 17, 37, 36, 35, 20, 33, 34, 32] \n",
            "\n",
            "\t****Encontrada mejor solucion: 1721 [0, 30, 27, 2, 18, 26, 12, 11, 13, 19, 6, 3, 28, 29, 38, 22, 39, 24, 40, 21, 9, 23, 41, 10, 25, 8, 4, 5, 16, 14, 15, 1, 7, 31, 17, 37, 36, 35, 20, 33, 34, 32] \n",
            "\n",
            "\t****Encontrada mejor solucion: 1718 [0, 2, 27, 28, 12, 11, 8, 18, 13, 19, 5, 3, 30, 29, 38, 22, 39, 24, 40, 21, 9, 23, 41, 10, 25, 26, 4, 6, 16, 14, 15, 1, 7, 37, 17, 31, 36, 35, 33, 20, 34, 32] \n",
            "\n",
            "\t****Encontrada mejor solucion: 1682 [0, 2, 27, 28, 12, 11, 8, 18, 13, 19, 5, 3, 30, 29, 38, 22, 39, 24, 40, 21, 9, 23, 41, 10, 25, 26, 4, 6, 1, 14, 15, 16, 7, 37, 17, 31, 36, 35, 33, 20, 34, 32] \n",
            "\n",
            "\t****Encontrada mejor solucion: 1667 [0, 2, 27, 28, 12, 11, 8, 18, 13, 19, 5, 3, 30, 29, 38, 22, 39, 24, 40, 21, 9, 23, 41, 25, 10, 26, 4, 6, 1, 14, 15, 16, 7, 37, 17, 31, 36, 35, 33, 20, 34, 32] \n",
            "\n",
            "\t****Encontrada mejor solucion: 1665 [0, 3, 27, 28, 12, 11, 8, 18, 13, 19, 5, 2, 30, 29, 38, 22, 39, 24, 40, 21, 9, 23, 41, 25, 10, 26, 4, 6, 1, 14, 15, 16, 7, 37, 17, 31, 36, 35, 33, 20, 34, 32] \n",
            "\n",
            "\t****Encontrada mejor solucion: 1594 [0, 3, 27, 28, 8, 11, 12, 18, 13, 19, 5, 2, 30, 29, 38, 22, 39, 24, 40, 21, 9, 23, 41, 25, 10, 26, 4, 6, 1, 14, 15, 16, 7, 37, 17, 31, 36, 35, 33, 20, 34, 32] \n",
            "\n",
            "\t****Encontrada mejor solucion: 1582 [0, 1, 3, 4, 26, 5, 18, 12, 10, 2, 27, 30, 28, 29, 22, 38, 39, 24, 40, 21, 41, 23, 9, 8, 25, 11, 13, 19, 14, 16, 15, 6, 7, 37, 17, 31, 36, 35, 20, 33, 34, 32] \n",
            "\n",
            "\t****Encontrada mejor solucion: 1564 [0, 6, 3, 4, 5, 26, 18, 12, 10, 29, 27, 2, 28, 30, 38, 22, 39, 24, 21, 40, 41, 23, 9, 8, 25, 11, 13, 19, 14, 16, 15, 1, 7, 37, 17, 36, 35, 31, 20, 33, 34, 32] \n",
            "\n",
            "\t****Encontrada mejor solucion: 1558 [0, 6, 3, 4, 5, 26, 18, 12, 10, 29, 27, 2, 28, 30, 38, 22, 39, 24, 21, 40, 23, 41, 9, 8, 25, 11, 13, 19, 14, 16, 15, 1, 7, 37, 17, 36, 35, 31, 20, 33, 34, 32] \n",
            "\n",
            "\t****Encontrada mejor solucion: 1543 [0, 6, 3, 4, 5, 26, 12, 11, 10, 2, 27, 28, 29, 30, 38, 22, 39, 24, 21, 40, 23, 41, 9, 8, 25, 18, 13, 19, 16, 14, 15, 1, 7, 37, 17, 31, 36, 35, 20, 33, 34, 32] \n",
            "\n",
            "\t****Encontrada mejor solucion: 1541 [0, 6, 3, 4, 5, 26, 18, 11, 10, 2, 27, 28, 29, 30, 38, 22, 39, 24, 21, 40, 23, 41, 9, 8, 25, 12, 13, 19, 16, 14, 15, 37, 7, 1, 17, 31, 36, 35, 33, 20, 34, 32] \n",
            "\n",
            "\t****Encontrada mejor solucion: 1524 [0, 3, 6, 4, 5, 26, 18, 11, 12, 2, 27, 28, 29, 30, 38, 22, 39, 21, 24, 40, 23, 41, 9, 8, 25, 10, 13, 19, 16, 14, 15, 37, 7, 1, 17, 31, 36, 35, 33, 20, 34, 32] \n",
            "\n",
            "\t****Encontrada mejor solucion: 1517 [0, 3, 6, 26, 5, 18, 11, 12, 4, 27, 2, 28, 29, 30, 38, 22, 39, 21, 24, 40, 23, 41, 8, 9, 10, 25, 13, 19, 14, 16, 15, 37, 7, 1, 17, 31, 36, 35, 33, 20, 34, 32] \n",
            "\n",
            "\t****Encontrada mejor solucion: 1509 [0, 3, 6, 26, 5, 12, 11, 18, 4, 2, 27, 28, 29, 30, 38, 22, 39, 21, 24, 40, 23, 41, 8, 9, 10, 25, 13, 19, 14, 16, 15, 37, 1, 7, 17, 31, 36, 35, 20, 33, 34, 32] \n",
            "\n",
            "\t****Encontrada mejor solucion: 1493 [0, 3, 6, 5, 26, 12, 11, 18, 4, 2, 27, 28, 29, 30, 38, 22, 39, 21, 24, 40, 23, 41, 8, 9, 10, 25, 13, 19, 14, 16, 15, 37, 1, 7, 17, 31, 36, 35, 20, 33, 34, 32] \n",
            "\n",
            "\t****Encontrada mejor solucion: 1471 [0, 3, 6, 5, 26, 12, 11, 18, 4, 2, 27, 28, 29, 30, 38, 22, 39, 21, 24, 40, 23, 41, 9, 8, 10, 25, 13, 19, 14, 16, 15, 37, 1, 7, 17, 31, 36, 35, 20, 33, 34, 32] \n",
            "\n",
            "\t****Encontrada mejor solucion: 1465 [0, 3, 4, 6, 5, 26, 18, 12, 11, 2, 27, 28, 29, 30, 38, 22, 39, 24, 40, 21, 9, 23, 41, 8, 10, 25, 13, 19, 14, 16, 15, 37, 7, 1, 31, 17, 36, 35, 20, 33, 34, 32] \n",
            "\n",
            "\t****Encontrada mejor solucion: 1453 [0, 3, 4, 6, 5, 26, 18, 12, 10, 2, 27, 28, 29, 30, 38, 22, 39, 24, 40, 21, 9, 8, 23, 41, 25, 11, 13, 19, 14, 16, 15, 37, 1, 7, 17, 31, 36, 35, 20, 33, 34, 32] \n",
            "\n",
            "\t****Encontrada mejor solucion: 1452 [0, 3, 4, 6, 5, 26, 18, 12, 10, 2, 27, 28, 29, 30, 38, 22, 39, 21, 24, 40, 9, 8, 23, 41, 25, 11, 13, 19, 14, 16, 15, 37, 7, 1, 17, 31, 36, 35, 20, 33, 34, 32] \n",
            "\n",
            "La mejor solución encontrada es : 1452 [0, 3, 4, 6, 5, 26, 18, 12, 10, 2, 27, 28, 29, 30, 38, 22, 39, 21, 24, 40, 9, 8, 23, 41, 25, 11, 13, 19, 14, 16, 15, 37, 7, 1, 17, 31, 36, 35, 20, 33, 34, 32]\n"
          ],
          "name": "stdout"
        }
      ]
    },
    {
      "cell_type": "code",
      "metadata": {
        "id": "3H7FheyQkkVH",
        "colab_type": "code",
        "outputId": "c4a15b81-5db5-45cc-f13f-aa81be6e0b3a",
        "colab": {
          "base_uri": "https://localhost:8080/",
          "height": 71
        }
      },
      "source": [
        "# H - Hormiga, T - Feromonas\n",
        "def Add_Nodo(problem, H ,T ) :\n",
        "  #Establecer una una funcion de probabilidad para \n",
        "  # añadir un nuevo nodo dependiendo de los nodos mas cercanos y de las feromonas depositadas\n",
        "  Nodos = list(problem.get_nodes())\n",
        "  return random.choice(   list(set(range(1,len(Nodos))) - set(H) )  )\n",
        "\n",
        "\n",
        "def Incrementa_Feromona(problem, T, H):\n",
        "  #Incrementar segun la calidad de la solución. Añadir una cantidad inversamente proporcional a la distancia total \n",
        "  for i in range(len(H)-1):\n",
        "    T[H[i]][H[i+1]] += 1000/distancia_total(H, problem)\n",
        "  return T\n",
        "\n",
        "def Evaporar_Feromonas(T):\n",
        "  #Podemos elegir diferentes funciones de evaporación dependiendo de la cantidad actual y de la suma total de feromonas depositadas,...\n",
        "  #Evapora 0.3 el valor de la feromona, sin que baje de 1\n",
        "  T = [[ max(T[i][j] - 0.3 , 1) for i in range(len(Nodos)) ] for j in range(len(Nodos))]\n",
        "  return T\n",
        "\n",
        "\n",
        "\n",
        "\n",
        "\n",
        "# Algoritmo colonia de hormigas\n",
        "\n",
        "def hormigas(problem, N) :\n",
        "  #problem = datos del problema\n",
        "  #N = Número de agentes(hormigas)\n",
        "    \n",
        "  #Nodos\n",
        "  Nodos = list(problem.get_nodes())\n",
        "    #Aristas\n",
        "  Aristas = list(problem.get_edges()) \n",
        "  \n",
        "  #Inicializa las aristas con una cantidad inicial de feromonas:1\n",
        "  T = [[ 1 for _ in range(len(Nodos)) ] for _ in range(len(Nodos))]\n",
        "  \n",
        "  #Se generan los agentes(hormigas) que serán estructuras de caminos desde 0\n",
        "  Hormiga = [[0] for _ in range(N)]\n",
        "\n",
        "  for h in range(N) :\n",
        "    #print(\"\\nAgente:\", h)\n",
        "    #Para cada agente se construye un camino\n",
        "    for i in range(len(Nodos)-1) :\n",
        "      \n",
        "      #Elige el siguiente nodo\n",
        "      Nuevo_Nodo = Add_Nodo(problem, Hormiga[h] ,T )\n",
        "      \n",
        "      Hormiga[h].append(Nuevo_Nodo)     \n",
        "    \n",
        "    #Incrementa feromonas en esa arista \n",
        "    T = Incrementa_Feromona(problem, T, Hormiga[h] )\n",
        "    #print(\"Feromonas(1)\", T)\n",
        "      \n",
        "    #Evapora Feromonas  \n",
        "    T = Evaporar_Feromonas(T)\n",
        "    #print(\"Feromonas(2)\", T)\n",
        "\n",
        "    #Seleccionamos el mejor agente\n",
        "  mejor_solucion = []\n",
        "  mejor_distancia = 10e100\n",
        "  for h in range(N) :\n",
        "    distancia_actual = distancia_total(Hormiga[h], problem)\n",
        "    if distancia_actual < mejor_distancia:\n",
        "      mejor_solucion = Hormiga[h]\n",
        "      mejor_distancia =distancia_actual\n",
        "  \n",
        "  \n",
        "  print(mejor_solucion)\n",
        "  print(mejor_distancia)\n",
        "\n",
        "\n",
        "hormigas(problem, 5000)\n",
        "\n"
      ],
      "execution_count": 0,
      "outputs": [
        {
          "output_type": "stream",
          "text": [
            "[0, 17, 7, 13, 18, 40, 21, 27, 37, 9, 36, 28, 33, 34, 16, 14, 15, 19, 26, 4, 11, 29, 41, 23, 24, 6, 25, 30, 22, 1, 31, 32, 35, 38, 12, 10, 5, 3, 2, 20, 8, 39]\n",
            "3903\n"
          ],
          "name": "stdout"
        }
      ]
    }
  ]
}