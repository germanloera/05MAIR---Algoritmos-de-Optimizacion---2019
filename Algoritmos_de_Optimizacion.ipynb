{
  "nbformat": 4,
  "nbformat_minor": 0,
  "metadata": {
    "colab": {
      "name": "Algoritmos de Optimizacion",
      "provenance": [],
      "collapsed_sections": [],
      "include_colab_link": true
    },
    "kernelspec": {
      "name": "python3",
      "display_name": "Python 3"
    }
  },
  "cells": [
    {
      "cell_type": "markdown",
      "metadata": {
        "id": "view-in-github",
        "colab_type": "text"
      },
      "source": [
        "<a href=\"https://colab.research.google.com/github/germanloera/05MAIR---Algoritmos-de-Optimizacion---2019/blob/master/Algoritmos_de_Optimizacion.ipynb\" target=\"_parent\"><img src=\"https://colab.research.google.com/assets/colab-badge.svg\" alt=\"Open In Colab\"/></a>"
      ]
    },
    {
      "cell_type": "code",
      "metadata": {
        "id": "rc29DCWfei2A",
        "colab_type": "code",
        "colab": {
          "base_uri": "https://localhost:8080/",
          "height": 34
        },
        "outputId": "4fde4f0d-24ad-4462-e8b6-f7c667f16fd8"
      },
      "source": [
        "import sorting\n",
        "import random\n",
        "\n",
        "\n",
        "lista = [ random.randrange(1, 20) for x in  range(10) ]\n",
        "print(lista)\n"
      ],
      "execution_count": 11,
      "outputs": [
        {
          "output_type": "stream",
          "text": [
            "[19, 10, 7, 5, 12, 15, 1, 15, 4, 3]\n"
          ],
          "name": "stdout"
        }
      ]
    }
  ]
}