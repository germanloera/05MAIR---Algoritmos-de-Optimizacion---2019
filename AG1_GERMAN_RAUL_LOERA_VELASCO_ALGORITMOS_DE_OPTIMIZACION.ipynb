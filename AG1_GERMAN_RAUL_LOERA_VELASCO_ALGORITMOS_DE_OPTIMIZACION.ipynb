{
  "nbformat": 4,
  "nbformat_minor": 0,
  "metadata": {
    "colab": {
      "name": "AG1-GERMAN RAUL LOERA VELASCO-ALGORITMOS DE OPTIMIZACION",
      "provenance": [],
      "authorship_tag": "ABX9TyNYZo3B8Yloajg4QSvetx9K",
      "include_colab_link": true
    },
    "kernelspec": {
      "name": "python3",
      "display_name": "Python 3"
    }
  },
  "cells": [
    {
      "cell_type": "markdown",
      "metadata": {
        "id": "view-in-github",
        "colab_type": "text"
      },
      "source": [
        "<a href=\"https://colab.research.google.com/github/germanloera/05MAIR---Algoritmos-de-Optimizacion---2019/blob/master/AG1_GERMAN_RAUL_LOERA_VELASCO_ALGORITMOS_DE_OPTIMIZACION.ipynb\" target=\"_parent\"><img src=\"https://colab.research.google.com/assets/colab-badge.svg\" alt=\"Open In Colab\"/></a>"
      ]
    },
    {
      "cell_type": "markdown",
      "metadata": {
        "id": "mmlrF-c5HcnZ",
        "colab_type": "text"
      },
      "source": [
        "# Actividad Guiada 1\n",
        "\n",
        "## Germán Raúl Loera Velasco\n",
        "\n",
        "GITHUB :  https://github.com/germanloera/05MAIR---Algoritmos-de-Optimizacion---2019\n",
        "\n"
      ]
    },
    {
      "cell_type": "markdown",
      "metadata": {
        "id": "ztZ4X0t2JKJ3",
        "colab_type": "text"
      },
      "source": [
        "# Problema N Reinas"
      ]
    },
    {
      "cell_type": "code",
      "metadata": {
        "id": "wCzBtj7_Ht80",
        "colab_type": "code",
        "colab": {
          "base_uri": "https://localhost:8080/",
          "height": 119
        },
        "outputId": "fac57ba1-1002-4352-d578-3bbdcb0a26cc"
      },
      "source": [
        "# Validar si la solucion actual es viable\n",
        "# Se asume que es viable, se validan las \n",
        "# soluciones previas comparandolas con la\n",
        "# actual, si alguna no es valida se retorna \n",
        "# False\n",
        "def isValid(arr, etapa):\n",
        "    for i in range(etapa):\n",
        "        q1 = arr[i] - arr[etapa]\n",
        "        q2 = i - etapa\n",
        "        #       Columnas                diagonales\n",
        "        if arr[etapa] == arr[i] or abs(q1) == abs(q2):\n",
        "            return False\n",
        "    return True\n",
        "\n",
        "\n",
        "def Reinas(arr, etapa, n):\n",
        "    exito = False\n",
        "    if etapa > n:\n",
        "        return exito\n",
        "    arr[etapa] = -1\n",
        "    while True:\n",
        "        arr[etapa] = arr[etapa] + 1\n",
        "        if isValid(arr, etapa):\n",
        "            if etapa != n:\n",
        "                exito = Reinas(arr, etapa + 1, n)\n",
        "            else:\n",
        "                exito = True\n",
        "        if arr[etapa] == n or exito:\n",
        "            break\n",
        "    return exito\n",
        "\n",
        "\n",
        "def imprimirResultado(arr):\n",
        "    for i in range(len(arr)):\n",
        "        print(\"|\", end=\" \")\n",
        "        for j in range(len(arr)):\n",
        "            p = \"*\" if j == arr[i] else \" \"\n",
        "            print(p, end=\" | \")\n",
        "        print(\"\")\n",
        "            \n",
        "\n",
        "N = 4\n",
        "arr = [0 for x in range(N)]  \n",
        "resultado = Reinas(arr, 0, N-1)\n",
        "print(resultado)\n",
        "print(arr)\n",
        "imprimirResultado(arr)"
      ],
      "execution_count": 2,
      "outputs": [
        {
          "output_type": "stream",
          "text": [
            "True\n",
            "[1, 3, 0, 2]\n",
            "|   | * |   |   | \n",
            "|   |   |   | * | \n",
            "| * |   |   |   | \n",
            "|   |   | * |   | \n"
          ],
          "name": "stdout"
        }
      ]
    },
    {
      "cell_type": "markdown",
      "metadata": {
        "id": "Q3Zz6sm-KcRb",
        "colab_type": "text"
      },
      "source": [
        "# Torres de Hanoi"
      ]
    },
    {
      "cell_type": "code",
      "metadata": {
        "id": "J0uGUz03KbHp",
        "colab_type": "code",
        "colab": {
          "base_uri": "https://localhost:8080/",
          "height": 153
        },
        "outputId": "777797d4-06a6-481b-e9a7-af48e5826c86"
      },
      "source": [
        "def torresHanoi(n, origen, destino, aux):\n",
        "    if n > 0:\n",
        "        torresHanoi(n - 1, origen,  aux, destino )\n",
        "        destino.append(origen.pop())\n",
        "        torresHanoi(n - 1, aux, destino, origen)\n",
        "\n",
        "\n",
        "n = 5\n",
        "origen = [x for x in range(n, 0, -1)]\n",
        "aux = []\n",
        "destino = []\n",
        "print(\"Origen: \", end = \" \")\n",
        "print(origen)\n",
        "print(\"Aux: \", end = \" \")\n",
        "print(aux)\n",
        "print(\"Destino: \", end = \" \")\n",
        "print(destino)\n",
        "print(\"Inicia Ejecucion\")\n",
        "torresHanoi(n, origen,  destino, aux)\n",
        "print(\"Termina Ejecucion\")\n",
        "print(\"Origen: \", end = \" \")\n",
        "print(origen)\n",
        "print(\"Aux: \", end = \" \")\n",
        "print(aux)\n",
        "print(\"Destino: \", end = \" \")\n",
        "print(destino)"
      ],
      "execution_count": 3,
      "outputs": [
        {
          "output_type": "stream",
          "text": [
            "Origen:  [5, 4, 3, 2, 1]\n",
            "Aux:  []\n",
            "Destino:  []\n",
            "Inicia Ejecucion\n",
            "Termina Ejecucion\n",
            "Origen:  []\n",
            "Aux:  []\n",
            "Destino:  [5, 4, 3, 2, 1]\n"
          ],
          "name": "stdout"
        }
      ]
    },
    {
      "cell_type": "markdown",
      "metadata": {
        "id": "YqKtdZiVKvre",
        "colab_type": "text"
      },
      "source": [
        "# Problema Devolver Cambio"
      ]
    },
    {
      "cell_type": "code",
      "metadata": {
        "id": "oja7vNXAKzjY",
        "colab_type": "code",
        "colab": {
          "base_uri": "https://localhost:8080/",
          "height": 34
        },
        "outputId": "d23179e4-b3ff-4176-e868-ed9db8b3b6b5"
      },
      "source": [
        "def calcular_cambio(cantidad, denominaciones):\n",
        "    cambio= [0 for x in range(len(denominaciones))]\n",
        "    for i in range(len(denominaciones)):\n",
        "        cambio[i] = cantidad // denominaciones[i]\n",
        "        cantidad = cantidad - (cambio[i] * denominaciones[i])\n",
        "    return cambio\n",
        "\n",
        "\n",
        "#Denominaciones en Dolares\n",
        "denominaciones = [100, 50, 20, 10, 5, 2, 1, 0.5, 0.25, 0.1, 0.5, 0.01]\n",
        "cantidad = 1257.73\n",
        "cambio = calcular_cambio(cantidad, denominaciones)\n",
        "print(cambio)"
      ],
      "execution_count": 4,
      "outputs": [
        {
          "output_type": "stream",
          "text": [
            "[12.0, 1.0, 0.0, 0.0, 1.0, 1.0, 0.0, 1.0, 0.0, 2.0, 0.0, 3.0]\n"
          ],
          "name": "stdout"
        }
      ]
    },
    {
      "cell_type": "markdown",
      "metadata": {
        "id": "kxWBD5KYLWBm",
        "colab_type": "text"
      },
      "source": [
        "# Puntos Cercanos"
      ]
    },
    {
      "cell_type": "code",
      "metadata": {
        "id": "ol48QR16LZr3",
        "colab_type": "code",
        "colab": {}
      },
      "source": [
        "import random\n",
        "import sys\n",
        "\n",
        "\n",
        "def FuerzaBruta(arr):\n",
        "    distance = sys.maxsize\n",
        "    p1, p2 = -1, -1\n",
        "    for i in range(len(arr)):\n",
        "        for j in range(len(arr)):\n",
        "            if i != j:\n",
        "                d = arr[i] - arr[j]\n",
        "                d = abs(d)\n",
        "                if  distance > d:\n",
        "                    distance = d\n",
        "                    p1 = i\n",
        "                    p2 = j\n",
        "    print(str(p1) + \" - \" + str(p2))\n",
        "    print(str(arr[p1]) + \" - \" + str(arr[p2]))\n",
        "\n",
        "\n",
        "lista_1D = [random.randrange(1, 10000) for x in range(20)]\n",
        "print(lista_1D)\n",
        "FuerzaBruta(lista_1D)"
      ],
      "execution_count": 0,
      "outputs": []
    }
  ]
}